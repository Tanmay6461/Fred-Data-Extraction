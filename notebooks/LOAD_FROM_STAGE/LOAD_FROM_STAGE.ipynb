{
 "metadata": {
  "kernelspec": {
   "display_name": "Streamlit Notebook",
   "name": "streamlit"
  },
  "lastEditStatus": {
   "notebookId": "2kcni77evlk5jd3hf4bm",
   "authorId": "3383479096112",
   "authorName": "DBT_DEV",
   "authorEmail": "",
   "sessionId": "b241edeb-b62a-4333-88e0-da93b1f704b6",
   "lastEditTime": 1740605730300
  }
 },
 "nbformat_minor": 5,
 "nbformat": 4,
 "cells": [
  {
   "cell_type": "code",
   "id": "b9b3835d-c73e-46a6-bd38-d992627437e8",
   "metadata": {
    "language": "python",
    "name": "cell5"
   },
   "outputs": [],
   "source": "from snowflake.snowpark.context import get_active_session\nfrom datetime import date\nsession = get_active_session()",
   "execution_count": null
  },
  {
   "cell_type": "code",
   "id": "f8e6855d-2622-421f-9497-bc7f95dd9904",
   "metadata": {
    "language": "python",
    "name": "cell1"
   },
   "outputs": [],
   "source": "py_db = session.get_current_database()\npy_raw_sch = session.get_current_schema()\npy_int_sch = 'DEV_INTEGRATIONS' if 'DEV' in session.get_current_schema() else 'PROD_INTEGRATIONS'\npy_har_sch = 'DEV_FRED_HARMONIZED' if 'DEV' in session.get_current_schema() else 'PROD_FRED_HARMONIZED'\npy_ana_sch = 'DEV_FRED_ANALYTICS' if 'DEV' in session.get_current_schema() else 'PROD_FRED_ANALYTICS'\npy_tgt = '{}.{}.FREDDATA'.format(py_db, py_raw_sch)\npy_src = '@{}.{}.FRED_RAW_STAGE'.format(py_db, py_int_sch)\npy_sp_tgt = '{}.{}.FREDDATA'.format(py_db.strip('\"'), py_har_sch)\npy_sp_src = '{}.{}.FREDDATA_STREAM'.format(py_db.strip('\"'), py_raw_sch.strip('\"'))\npy_ff = '{}.{}.CSV_FILE_FORMAT'.format(py_db, py_int_sch)\npy_mv = '{}.{}.FREDDATA'.format(py_db, py_ana_sch)\npy_sp = \"{}.{}.FRED_DATA_UPDATE_SP('{}', '{}')\".format(py_db.strip('\"'),py_int_sch, py_sp_tgt, py_sp_src)",
   "execution_count": null
  },
  {
   "cell_type": "markdown",
   "id": "43b78404-bf5e-4853-bda6-cb55a8a0b868",
   "metadata": {
    "name": "cell8",
    "collapsed": false
   },
   "source": "### URL Construction"
  },
  {
   "cell_type": "code",
   "id": "3f023361-20e9-49a0-b69b-f476e258c26e",
   "metadata": {
    "language": "python",
    "name": "cell7"
   },
   "outputs": [],
   "source": "py_today = date.today()\npy_fred_api_base_url = 'https://api.stlouisfed.org/fred/series/observations?series_id=T10Y2Y&api_key=cf4bf1054e57bf267cb2fc89aa58b117&file_type=json&observation_start={}&observation_end={}'\npy_row_count = session.sql(\"select count(*) as ROW_COUNT from {}\".format(py_mv)).collect()[0]['ROW_COUNT']\npy_fred_api_url = py_fred_api_base_url.format('2020-02-23', py_today) if py_row_count==0 else py_fred_api_base_url.format(py_today, py_today)\npy_func = \"{}.{}.FREDAPI_RESPONSE_TO_DF('{}')\".format(py_db, py_int_sch, py_fred_api_url)",
   "execution_count": null
  },
  {
   "cell_type": "markdown",
   "id": "0eedfb8f-3700-4198-8a60-0c1ccdccbdc4",
   "metadata": {
    "name": "cell6",
    "collapsed": false
   },
   "source": "### Staging\n- Source : FRED API\n- Target : S3 EXTERNAL STAGE"
  },
  {
   "cell_type": "code",
   "id": "05f42e56-76a8-44e0-934f-dac38e8b6ebb",
   "metadata": {
    "language": "sql",
    "name": "cell4"
   },
   "outputs": [],
   "source": "SELECT {{py_func}};",
   "execution_count": null
  },
  {
   "cell_type": "markdown",
   "id": "b9f9c452-c4fc-4d68-ac5a-e7e4ec8a532a",
   "metadata": {
    "name": "cell3",
    "collapsed": false
   },
   "source": "Data Ingestion\n- Source : S3 EXTERNAL STAGE\n- Target : FRED_DB.<ENV>_RAW_FRED.FREDDATA"
  },
  {
   "cell_type": "code",
   "id": "42e9a6ce-167f-4496-b8f6-d3d28f494241",
   "metadata": {
    "language": "sql",
    "name": "cell2",
    "codeCollapsed": false
   },
   "outputs": [],
   "source": "-- while deploying to prod, make sure to remove the force parameter\nCOPY INTO {{py_tgt}}\nFROM {{py_src}}\nFILE_FORMAT = (FORMAT_NAME = {{py_ff}})\nPATTERN = '.*fred/data.csv'\nFORCE = TRUE;",
   "execution_count": null
  },
  {
   "cell_type": "markdown",
   "id": "5b2a7b9d-3d48-4ed2-a96d-3bb166788d60",
   "metadata": {
    "name": "cell10",
    "collapsed": false
   },
   "source": "### Execute SP to write inserts from STREAM table into RAW SCHEMA -> FREDDATA"
  },
  {
   "cell_type": "code",
   "id": "773b646a-4ed4-4bb1-aae1-2f26077b9da2",
   "metadata": {
    "language": "sql",
    "name": "cell14"
   },
   "outputs": [],
   "source": "CALL {{py_sp}};",
   "execution_count": null
  }
 ]
}