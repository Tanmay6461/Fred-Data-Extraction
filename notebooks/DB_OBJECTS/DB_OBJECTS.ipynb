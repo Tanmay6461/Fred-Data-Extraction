{
 "cells": [
  {
   "cell_type": "code",
   "execution_count": null,
   "id": "7aed1e12-2303-4d51-8a73-f17504ef470d",
   "metadata": {
    "language": "sql",
    "name": "cell1"
   },
   "outputs": [],
   "source": [
    "CREATE OR REPLACE FUNCTION calculate_percent_profit_loss(curr FLOAT, prev FLOAT) \n",
    "RETURNS FLOAT \n",
    "LANGUAGE SQL \n",
    "AS \n",
    "$$\n",
    "    CASE \n",
    "        WHEN prev = 0 THEN 100\n",
    "        ELSE trunc(((curr - prev) / prev) * 100,2)\n",
    "    END\n",
    "$$;"
   ]
  }
 ],
 "metadata": {
  "kernelspec": {
   "display_name": "Streamlit Notebook",
   "name": "streamlit"
  },
  "lastEditStatus": {
   "authorEmail": "",
   "authorId": "3383479096112",
   "authorName": "DBT_DEV",
   "lastEditTime": 1740544289297,
   "notebookId": "wb34cwizmur2htppzggu",
   "sessionId": "3fd1ce13-3fd7-4df0-acac-331209621c33"
  }
 },
 "nbformat": 4,
 "nbformat_minor": 5
}
