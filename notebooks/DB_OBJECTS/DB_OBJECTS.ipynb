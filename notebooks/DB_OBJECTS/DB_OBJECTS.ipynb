{
 "cells": [
  {
   "cell_type": "code",
   "execution_count": null,
   "id": "eb576a1d-6ade-4002-9b3d-7bea5e133666",
   "metadata": {
    "language": "python",
    "name": "cell3"
   },
   "outputs": [],
   "source": [
    "from snowflake.snowpark.context import get_active_session\n",
    "from datetime import date\n",
    "session = get_active_session()"
   ]
  },
  {
   "cell_type": "code",
   "execution_count": null,
   "id": "bcd5b770-f329-4575-9f39-c2161304ccd9",
   "metadata": {
    "language": "python",
    "name": "cell4"
   },
   "outputs": [],
   "source": [
    "py_db = session.get_current_database()\n",
    "py_int_sch = session.get_current_schema()\n",
    "py_env = 'DEV'if 'DEV' in session.get_current_schema() else 'PROD'\n",
    "py_raw_sch = 'DEV_FRED_RAW' if 'DEV' in session.get_current_schema() else 'PROD_FRED_RAW'\n",
    "py_har_sch = 'DEV_FRED_HARMONIZED' if 'DEV' in session.get_current_schema() else 'PROD_FRED_HARMONIZED'\n",
    "py_ana_sch = 'DEV_FRED_ANALYTICS' if 'DEV' in session.get_current_schema() else 'PROD_FRED_ANALYTICS'\n",
    "py_tgt = '{}.{}.FREDDATA'.format(py_db, py_har_sch)\n",
    "py_src = '{}.{}.FREDDATA_STREAM'.format(py_db, py_raw_sch)\n",
    "py_task = '{}.{}.DATA_UPDATE_TASK'.format(py_db, py_int_sch)\n",
    "py_notebook = '{}.{}.{}_LOAD_FROM_STAGE()'.format(py_db, py_raw_sch, py_env)\n",
    "py_view_src = '{}.{}.freddata'.format(py_db, py_ana_sch)\n",
    "py_month_view = '{}.{}.month_wise_analytics'.format(py_db, py_ana_sch)\n",
    "py_year_view = '{}.{}.year_wise_analytics'.format(py_db, py_ana_sch)\n",
    "py_val_diff_view = '{}.{}.curr_vs_prev_analytics'.format(py_db, py_ana_sch)"
   ]
  },
  {
   "cell_type": "code",
   "execution_count": null,
   "id": "7aed1e12-2303-4d51-8a73-f17504ef470d",
   "metadata": {
    "language": "sql",
    "name": "cell1"
   },
   "outputs": [],
   "source": [
    "CREATE OR REPLACE FUNCTION calculate_percent_profit_loss(curr FLOAT, prev FLOAT) \n",
    "RETURNS FLOAT \n",
    "LANGUAGE SQL \n",
    "AS \n",
    "$$\n",
    "    CASE \n",
    "        WHEN prev = 0 THEN 100\n",
    "        ELSE trunc(((curr - prev) / prev) * 100,2)\n",
    "    END\n",
    "$$;"
   ]
  },
  {
   "cell_type": "code",
   "execution_count": null,
   "id": "fde10a4f-79fb-4fa5-bbb4-92f5f816142d",
   "metadata": {
    "language": "sql",
    "name": "cell8"
   },
   "outputs": [],
   "source": [
    "CREATE OR REPLACE PROCEDURE FRED_DATA_UPDATE_SP(py_tgt STRING, py_src STRING)\n",
    "RETURNS INT\n",
    "LANGUAGE SQL \n",
    "EXECUTE AS CALLER\n",
    "AS \n",
    "$$\n",
    "BEGIN\n",
    "    EXECUTE IMMEDIATE \n",
    "    'MERGE INTO ' || py_tgt || ' AS tgt\n",
    "            USING (SELECT DISTINCT * FROM ' || py_src || ') AS src \n",
    "            ON tgt.DATA_DATE = src.DATA_DATE\n",
    "            WHEN MATCHED AND src.METADATA$ACTION = ''INSERT'' THEN \n",
    "                UPDATE SET tgt.VALUE = src.VALUE, \n",
    "                        tgt.CREATED_DATE = CURRENT_TIMESTAMP \n",
    "            WHEN NOT MATCHED AND src.METADATA$ACTION = ''INSERT'' THEN \n",
    "                INSERT (DATA_DATE, VALUE, CREATED_DATE) \n",
    "                VALUES (src.DATA_DATE, src.VALUE, CURRENT_TIMESTAMP);';\n",
    "\n",
    "    RETURN 1;\n",
    "END;\n",
    "$$;\n"
   ]
  },
  {
   "cell_type": "code",
   "execution_count": null,
   "id": "83401f4c-d344-405d-b1f0-9769cbab959b",
   "metadata": {
    "language": "sql",
    "name": "cell2"
   },
   "outputs": [],
   "source": [
    "CREATE OR REPLACE TASK {{py_task}}\n",
    "WAREHOUSE = FRED_WH\n",
    "SCHEDULE = 'USING CRON 30 23 * * * UTC'\n",
    "AS \n",
    "EXECUTE NOTEBOOK {{py_notebook}}"
   ]
  },
  {
   "cell_type": "code",
   "execution_count": null,
   "id": "139b4be0-75a6-4dcf-bab8-54bd9aef49c1",
   "metadata": {
    "language": "sql",
    "name": "cell6"
   },
   "outputs": [],
   "source": [
    "ALTER TASK {{py_task}} RESUME;"
   ]
  },
  {
   "cell_type": "code",
   "execution_count": null,
   "id": "bf4ebc27-23c8-4d96-8f85-bf59952c2005",
   "metadata": {
    "language": "sql",
    "name": "cell5"
   },
   "outputs": [],
   "source": [
    "create or replace view {{py_val_diff_view}} as\n",
    "select f.data_date as date, f.value as current_value, \n",
    "nvl(lag(value) over( order by data_date), 0) previous_day_value, \n",
    "concat(fred_db.prod_integrations.CALCULATE_PERCENT_PROFIT_LOSS(current_value, previous_day_value),' %') as PERCENT_DIFFERNCE from {{py_view_src}} as f;\n"
   ]
  },
  {
   "cell_type": "code",
   "execution_count": null,
   "id": "b0b75f18-6be3-467f-920e-8feb0e838615",
   "metadata": {
    "language": "sql",
    "name": "cell7"
   },
   "outputs": [],
   "source": [
    "create or replace view {{py_year_view}} as\n",
    "select year(f.data_date) as year, trunc(avg(f.value),2) as average_value from {{py_view_src}} f\n",
    "group by year(f.data_date);"
   ]
  },
  {
   "cell_type": "code",
   "execution_count": null,
   "id": "b684645b-7506-4274-9482-2e171212446e",
   "metadata": {
    "language": "sql",
    "name": "cell9"
   },
   "outputs": [],
   "source": [
    "CREATE OR REPLACE VIEW {{py_month_view}} AS\n",
    "SELECT \n",
    "    year, \n",
    "    month,\n",
    "    average_value\n",
    "FROM (\n",
    "    SELECT \n",
    "        YEAR(f.data_date) AS year,\n",
    "        MONTH(f.data_date) AS month_num,\n",
    "        MONTHNAME(f.data_date) AS month,\n",
    "        TRUNC(AVG(f.value), 2) AS average_value\n",
    "    FROM \n",
    "        {{py_view_src}} f\n",
    "    GROUP BY \n",
    "        YEAR(f.data_date),\n",
    "        MONTH(f.data_date),\n",
    "        MONTHNAME(f.data_date)\n",
    ") AS fred;"
   ]
  }
 ],
 "metadata": {
  "kernelspec": {
   "display_name": "Streamlit Notebook",
   "name": "streamlit"
  },
  "lastEditStatus": {
   "authorEmail": "",
   "authorId": "3383479096112",
   "authorName": "DBT_DEV",
   "lastEditTime": 1740695743551,
   "notebookId": "35cdm33n4rzzmlm25axj",
   "sessionId": "0b1415e9-1fc0-4724-af83-a0084fe6c1f1"
  }
 },
 "nbformat": 4,
 "nbformat_minor": 5
}
