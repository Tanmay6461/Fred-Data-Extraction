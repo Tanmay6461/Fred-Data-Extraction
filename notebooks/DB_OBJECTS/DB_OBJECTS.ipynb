{
 "cells": [
  {
   "cell_type": "code",
   "execution_count": null,
   "id": "eb576a1d-6ade-4002-9b3d-7bea5e133666",
   "metadata": {
    "language": "python",
    "name": "cell3"
   },
   "outputs": [],
   "source": [
    "from snowflake.snowpark.context import get_active_session\n",
    "from datetime import date\n",
    "session = get_active_session()"
   ]
  },
  {
   "cell_type": "code",
   "execution_count": null,
   "id": "bcd5b770-f329-4575-9f39-c2161304ccd9",
   "metadata": {
    "language": "python",
    "name": "cell4"
   },
   "outputs": [],
   "source": [
    "py_db = session.get_current_database()\n",
    "py_int_sch = session.get_current_schema()\n",
    "py_env = 'DEV'if 'DEV' in session.get_current_schema() else 'PROD'\n",
    "py_raw_sch = 'DEV_FRED_RAW' if 'DEV' in session.get_current_schema() else 'PROD_FRED_RAW'\n",
    "py_har_sch = 'DEV_FRED_HARMONIZED' if 'DEV' in session.get_current_schema() else 'PROD_FRED_HARMONIZED'\n",
    "py_ana_sch = 'DEV_FRED_ANALYTICS' if 'DEV' in session.get_current_schema() else 'PROD_FRED_ANALYTICS'\n",
    "py_tgt = '{}.{}.FREDDATA'.format(py_db, py_har_sch)\n",
    "py_src = '{}.{}.FREDDATA_STREAM'.format(py_db, py_raw_sch)\n",
    "py_task = '{}.{}.DATA_UPDATE_TASK'.format(py_db, py_int_sch)\n",
    "py_notebook = '{}.{}.{}_LOAD_FROM_STAGE()'.format(py_db, py_raw_sch, py_env)"
   ]
  },
  {
   "cell_type": "code",
   "execution_count": null,
   "id": "7aed1e12-2303-4d51-8a73-f17504ef470d",
   "metadata": {
    "language": "sql",
    "name": "cell1"
   },
   "outputs": [],
   "source": [
    "CREATE OR REPLACE FUNCTION calculate_percent_profit_loss(curr FLOAT, prev FLOAT) \n",
    "RETURNS FLOAT \n",
    "LANGUAGE SQL \n",
    "AS \n",
    "$$\n",
    "    CASE \n",
    "        WHEN prev = 0 THEN 100\n",
    "        ELSE trunc(((curr - prev) / prev) * 100,2)\n",
    "    END\n",
    "$$;"
   ]
  },
  {
   "cell_type": "code",
   "execution_count": null,
   "id": "fde10a4f-79fb-4fa5-bbb4-92f5f816142d",
   "metadata": {
    "language": "sql",
    "name": "cell8"
   },
   "outputs": [],
   "source": [
    "CREATE OR REPLACE PROCEDURE FRED_DATA_UPDATE_SP(py_tgt STRING, py_src STRING)\n",
    "RETURNS INT\n",
    "LANGUAGE SQL \n",
    "EXECUTE AS CALLER\n",
    "AS \n",
    "$$\n",
    "BEGIN\n",
    "    EXECUTE IMMEDIATE \n",
    "    'MERGE INTO ' || py_tgt || ' AS tgt\n",
    "            USING ' || py_src || ' AS src \n",
    "            ON tgt.DATA_DATE = src.DATA_DATE\n",
    "            WHEN MATCHED AND src.METADATA$ACTION = ''INSERT'' THEN \n",
    "                UPDATE SET tgt.VALUE = src.VALUE, \n",
    "                        tgt.CREATED_DATE = CURRENT_TIMESTAMP \n",
    "            WHEN NOT MATCHED AND src.METADATA$ACTION = ''INSERT'' THEN \n",
    "                INSERT (DATA_DATE, VALUE, CREATED_DATE) \n",
    "                VALUES (src.DATA_DATE, src.VALUE, CURRENT_TIMESTAMP);';\n",
    "\n",
    "    RETURN 1;\n",
    "END;\n",
    "$$;\n"
   ]
  },
  {
   "cell_type": "code",
   "execution_count": null,
   "id": "83401f4c-d344-405d-b1f0-9769cbab959b",
   "metadata": {
    "language": "sql",
    "name": "cell2"
   },
   "outputs": [],
   "source": [
    "CREATE OR REPLACE TASK {{py_task}}\n",
    "WAREHOUSE = FRED_WH\n",
    "SCHEDULE = 'USING CRON 30 23 * * * UTC'\n",
    "AS \n",
    "EXECUTE NOTEBOOK {{py_notebook}}"
   ]
  },
  {
   "cell_type": "code",
   "execution_count": null,
   "id": "139b4be0-75a6-4dcf-bab8-54bd9aef49c1",
   "metadata": {
    "language": "sql",
    "name": "cell6"
   },
   "outputs": [],
   "source": [
    "ALTER TASK {{py_task}} RESUME;"
   ]
  }
 ],
 "metadata": {
  "kernelspec": {
   "display_name": "Streamlit Notebook",
   "name": "streamlit"
  },
  "lastEditStatus": {
   "authorEmail": "",
   "authorId": "3383479096112",
   "authorName": "DBT_DEV",
   "lastEditTime": 1740606413094,
   "notebookId": "3pczirti46bsfuq3dzbx",
   "sessionId": "1bbcc526-52ab-49a9-ad8e-a60002821d6a"
  }
 },
 "nbformat": 4,
 "nbformat_minor": 5
}
